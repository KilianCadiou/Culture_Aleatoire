{
 "cells": [
  {
   "cell_type": "code",
   "execution_count": null,
   "metadata": {},
   "outputs": [],
   "source": [
    "import pandas as pd"
   ]
  },
  {
   "cell_type": "code",
   "execution_count": 5,
   "metadata": {},
   "outputs": [],
   "source": [
    "playlist_musique = pd.read_csv('https://docs.google.com/spreadsheets/d/1Uw59rRaTDXjfiMNiGco1FZO4VI5wkIer0bxllLiHxVQ/export?format=csv&gid=0#gid=0')\n",
    "playlist_livre = pd.read_csv('https://docs.google.com/spreadsheets/d/1Uw59rRaTDXjfiMNiGco1FZO4VI5wkIer0bxllLiHxVQ/export?format=csv&gid=1652576992#gid=1652576992')\n",
    "playlist_film = pd.read_csv('https://docs.google.com/spreadsheets/d/1Uw59rRaTDXjfiMNiGco1FZO4VI5wkIer0bxllLiHxVQ/export?format=csv&gid=442082949#gid=442082949')"
   ]
  }
 ],
 "metadata": {
  "kernelspec": {
   "display_name": "base",
   "language": "python",
   "name": "python3"
  },
  "language_info": {
   "codemirror_mode": {
    "name": "ipython",
    "version": 3
   },
   "file_extension": ".py",
   "mimetype": "text/x-python",
   "name": "python",
   "nbconvert_exporter": "python",
   "pygments_lexer": "ipython3",
   "version": "3.12.4"
  }
 },
 "nbformat": 4,
 "nbformat_minor": 2
}
